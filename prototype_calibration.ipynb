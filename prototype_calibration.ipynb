{
 "cells": [
  {
   "cell_type": "markdown",
   "metadata": {},
   "source": [
    "# Calibrating Derp with Air Measurement\n",
    "\n",
    "Here we will construct a procedure for calibrating Derp by measuring air. The air measurement is done because it is the closest thing to a \"well-known\" Mueller matrix that is physically realizable (and inexpensive). There are a couple ways to do so that we are interested in comparing, so we also illustrate those here.\n",
    "\n",
    "The results int his notebook will be done with the Thorlabs laser because the SuperK has been unstable. \n",
    "\n",
    "\n",
    "We begin by importing the necessary modules and initializing the Camera."
   ]
  },
  {
   "cell_type": "code",
   "execution_count": 1,
   "metadata": {},
   "outputs": [],
   "source": [
    "import numpy as np\n",
    "import derpy\n",
    "from time import sleep\n",
    "import matplotlib.pyplot as plt\n",
    "from matplotlib.colors import LogNorm\n",
    "from tqdm import tqdm\n",
    "from scipy.optimize import minimize\n",
    "\n",
    "from katsu.mueller import(\n",
    "    linear_retarder,\n",
    "    linear_polarizer\n",
    ")"
   ]
  },
  {
   "cell_type": "code",
   "execution_count": null,
   "metadata": {},
   "outputs": [],
   "source": [
    "cam = derpy.CRED2(set_temperature=-40, fps=10, tint=90, temp_tolerance=0.5) # TODO: add units to docstring (also add docstring)"
   ]
  },
  {
   "cell_type": "code",
   "execution_count": null,
   "metadata": {},
   "outputs": [],
   "source": [
    "cam.tint = 1"
   ]
  },
  {
   "cell_type": "markdown",
   "metadata": {},
   "source": [
    "The cooldown process can be viewed by plotting the temperature_change attribute"
   ]
  },
  {
   "cell_type": "code",
   "execution_count": null,
   "metadata": {},
   "outputs": [],
   "source": [
    "plt.figure()\n",
    "plt.plot(cam.temperature_change, marker='o')\n",
    "plt.ylabel('Temperature, Celsius')\n",
    "plt.xlabel('Iteration')\n",
    "plt.show()"
   ]
  },
  {
   "cell_type": "code",
   "execution_count": null,
   "metadata": {},
   "outputs": [],
   "source": [
    "fstg = derpy.FocusStage()"
   ]
  },
  {
   "cell_type": "code",
   "execution_count": 6,
   "metadata": {},
   "outputs": [],
   "source": [
    "# Are we getting an image\n",
    "dark = cam.take_median_image(10)"
   ]
  },
  {
   "cell_type": "code",
   "execution_count": null,
   "metadata": {},
   "outputs": [],
   "source": [
    "plt.imshow(dark, cmap='gray', vmax=2**12)\n",
    "plt.colorbar()"
   ]
  },
  {
   "cell_type": "code",
   "execution_count": 8,
   "metadata": {},
   "outputs": [],
   "source": [
    "# now a bright\n",
    "bright = cam.take_median_image(10)"
   ]
  },
  {
   "cell_type": "code",
   "execution_count": null,
   "metadata": {},
   "outputs": [],
   "source": [
    "plt.title(\"Bright Frame\")\n",
    "plt.imshow(bright- dark, cmap='inferno', vmax=4096, vmin=0)\n",
    "plt.colorbar()"
   ]
  },
  {
   "cell_type": "markdown",
   "metadata": {},
   "source": [
    "Determine a window to use on the data. The data inside these pupils should be relatively uniform"
   ]
  },
  {
   "cell_type": "code",
   "execution_count": null,
   "metadata": {},
   "outputs": [],
   "source": [
    "bright = cam.take_many_images(10)\n",
    "bright_avg = np.median(bright, axis=0) - dark\n",
    "bright_avg[bright_avg < 0] = 0\n",
    "cxr, cyr = 200, 390\n",
    "cxl, cyl = 200, 200 - 5\n",
    "cut = 120\n",
    "\n",
    "x = np.linspace(-1,1,2*cut)\n",
    "x, y = np.meshgrid(x, x)\n",
    "r = np.sqrt(x**2 + y**2)\n",
    "mask = np.zeros_like(r)\n",
    "mask[r < 0.5] = 1\n",
    "\n",
    "left_channel = bright_avg[cxl-cut:cxl+cut,cyl-cut:cyl+cut]\n",
    "right_channel = bright_avg[cxr-cut:cxr+cut,cyr-cut:cyr+cut]\n",
    "\n",
    "plt.style.use(\"default\")\n",
    "plt.figure(figsize=[14,3])\n",
    "plt.subplot(131)\n",
    "plt.title(\"Left Channel\")\n",
    "plt.imshow(mask * left_channel, cmap='inferno')\n",
    "plt.colorbar()\n",
    "plt.subplot(132)\n",
    "plt.title(\"Right Channel\")\n",
    "plt.imshow(mask * right_channel, cmap='inferno')\n",
    "plt.colorbar()\n",
    "plt.subplot(133)\n",
    "plt.title(\"Difference\")\n",
    "plt.imshow((left_channel / left_channel.max() - right_channel / right_channel.max()) / mask, cmap='RdBu_r')\n",
    "plt.colorbar()\n",
    "plt.show()"
   ]
  },
  {
   "cell_type": "markdown",
   "metadata": {},
   "source": [
    "Next we initialize the rotation stages"
   ]
  },
  {
   "cell_type": "code",
   "execution_count": 11,
   "metadata": {},
   "outputs": [],
   "source": [
    "psg_stg = derpy.PSGRotationStage()\n",
    "psa_stg = derpy.PSARotationStage()"
   ]
  },
  {
   "cell_type": "markdown",
   "metadata": {},
   "source": [
    "The following will illustrate the construction of an object that is capable of tracking the state of Derp, which is critical to update throughout the experiment."
   ]
  },
  {
   "cell_type": "code",
   "execution_count": 13,
   "metadata": {},
   "outputs": [],
   "source": [
    "class Experiment:\n",
    "\n",
    "    def __init__(self, cam, psg, psa,\n",
    "                 psg_pol_angle=0, psg_wvp_angle=0, psg_wvp_ret=np.pi/2,\n",
    "                 psa_pol_angle=0, psa_wvp_angle=0, psa_wvp_ret=np.pi/2,\n",
    "                 dark=None, cxr=200, cyr=390, cxl=200, cyl=195, cut=120):\n",
    "        \n",
    "        # initialize the hardware\n",
    "        self.cam = cam\n",
    "        self.psg = psg\n",
    "        self.psa = psa\n",
    "\n",
    "        # initialize the parameters to calibrate\n",
    "        self.psg_pol_angle = psg_pol_angle\n",
    "        self.psg_wvp_ret = psg_wvp_ret\n",
    "        self.psa_pol_angle = psa_pol_angle\n",
    "        self.psa_wvp_ret = psa_wvp_ret\n",
    "\n",
    "        # track the relative waveplate motion\n",
    "        self.psg_positions_relative = [] # the position history\n",
    "        self.psg_starting_angle = 0 # where the waveplate started\n",
    "        self.psa_positions_relative = [] # the position history\n",
    "        self.psa_starting_angle = 0 # where the waveplate started\n",
    "\n",
    "        # track the image acquisition history\n",
    "        self.images = []\n",
    "        self.mean_power_left = []\n",
    "        self.mean_power_right = []\n",
    "\n",
    "        if dark is not None:\n",
    "            self.dark = dark\n",
    "\n",
    "        # set up aperture masks\n",
    "        x = np.linspace(-1, 1, 2*cut)\n",
    "        x, y = np.meshgrid(x, x)\n",
    "        r = np.sqrt(x**2 + y**2)\n",
    "        self.mask = np.zeros_like(r)\n",
    "        self.mask[r < 0.5] = 1\n",
    "\n",
    "    def measurement(self, psg_angular_step, psa_angular_step, n_steps, n_imgs=5):\n",
    "\n",
    "        for i in tqdm(range(n_steps)):\n",
    "\n",
    "            # move the psg\n",
    "            self.psg.step(psg_angular_step)\n",
    "            self.psg_positions_relative.append(psg_angular_step * (i+1))\n",
    "            sleep(0.1) # beccause of paranoia\n",
    "\n",
    "            # move the psa\n",
    "            self.psa.step(psa_angular_step)\n",
    "            self.psa_positions_relative.append(psa_angular_step * (i+1))\n",
    "            sleep(0.1)\n",
    "\n",
    "            # take a measurement\n",
    "            img = self.cam.take_median_image(n_imgs)\n",
    "            if hasattr(self, 'dark'):\n",
    "                img -= self.dark\n",
    "                img[img < 0] = 1e-10\n",
    "\n",
    "            # capture the full frame, no sub-pupiling\n",
    "            self.images.append(img)\n",
    "\n",
    "            # Get the average power in the sub-pupils\n",
    "            self.mean_power_left.append(np.mean(img[cxl-cut:cxl+cut, cyl-cut:cyl+cut][self.mask==1]))\n",
    "            self.mean_power_right.append(np.mean(img[cxr-cut:cxr+cut, cyr-cut:cyr+cut][self.mask==1]))\n",
    "            \n",
    "    \n",
    "    @property\n",
    "    def psg_wvp_angle(self):\n",
    "        return self.psg_starting_angle + np.array(self.psg_positions_relative)\n",
    "    \n",
    "    @psg_wvp_angle.setter\n",
    "    def psg_wvp_angle(self, value):\n",
    "        self.psg_starting_angle = value \n",
    "    \n",
    "    \n",
    "    @property\n",
    "    def psa_wvp_angle(self):\n",
    "        return self.psa_starting_angle + np.array(self.psa_positions_relative)\n",
    "    \n",
    "    @psa_wvp_angle.setter\n",
    "    def psg_wvp_angle(self, value):\n",
    "        self.psa_starting_angle = value \n",
    "\n",
    "\n",
    "def forward_simulate(x, experiment, channel=\"left\"):\n",
    "\n",
    "    starting_angle_psg_pol = x[0]\n",
    "    starting_angle_psg_wvp = x[1]\n",
    "    retardance_psg_wvp = x[2]\n",
    "\n",
    "    starting_angle_psa_pol = x[3]\n",
    "    starting_angle_psa_wvp = x[4]\n",
    "    retardance_psa_wvp = x[5]\n",
    "\n",
    "    # parse experiment\n",
    "    psg_angles = np.radians(np.array(experiment.psg_positions_relative))\n",
    "    psa_angles = np.radians(np.array(experiment.psa_positions_relative))\n",
    "\n",
    "    shapes = [psa_angles.shape[0]]\n",
    "\n",
    "    psg_pol = linear_polarizer(starting_angle_psg_pol)\n",
    "    psg_wvp = linear_retarder(psg_angles + starting_angle_psg_wvp, retardance_psg_wvp, shape=shapes)\n",
    "\n",
    "    psa_wvp = linear_retarder(psa_angles + starting_angle_psa_wvp, retardance_psa_wvp, shape=shapes)\n",
    "    psa_pol = linear_polarizer(starting_angle_psa_pol)\n",
    "\n",
    "    M_total = psa_pol @ psa_wvp @ psg_wvp @ psg_pol\n",
    "    power_simulated = M_total[..., 0, 0]\n",
    "\n",
    "    return power_simulated\n",
    "\n",
    "\n",
    "def forward_calibrate(x, experiment, channel=\"left\"):\n",
    "\n",
    "    starting_angle_psg_pol = x[0]\n",
    "    starting_angle_psg_wvp = x[1]\n",
    "    retardance_psg_wvp = x[2]\n",
    "\n",
    "    starting_angle_psa_pol = x[3]\n",
    "    starting_angle_psa_wvp = x[4]\n",
    "    retardance_psa_wvp = x[5]\n",
    "\n",
    "    if channel == \"left\":\n",
    "        power = experiment.mean_power_left\n",
    "\n",
    "    elif channel == \"right\":\n",
    "        power = experiment.mean_power_right\n",
    "\n",
    "    else:\n",
    "        raise ValueError(f\"channel '{channel}' must be either 'left' or 'right'\")\n",
    "\n",
    "    power_simulated = forward_simulate(x, experiment, channel=channel)\n",
    "\n",
    "    # normalize the power\n",
    "    power_simulated = power_simulated / np.max(power_simulated)\n",
    "    power = power / np.max(power)\n",
    "\n",
    "    # compute error to calibrate\n",
    "    error = np.sum((power - power_simulated)**2)\n",
    "\n",
    "    return error"
   ]
  },
  {
   "cell_type": "markdown",
   "metadata": {},
   "source": [
    "We begin by initializing the Experiment object with our various devices"
   ]
  },
  {
   "cell_type": "code",
   "execution_count": 14,
   "metadata": {},
   "outputs": [],
   "source": [
    "air_test = Experiment(cam, psg_stg, psa_stg, dark=dark)"
   ]
  },
  {
   "cell_type": "markdown",
   "metadata": {},
   "source": [
    "Next we invoke the measurement method, which takes step sizes for the PSG and PSA, and the number of steps to take. The images and angular steps are saved internally."
   ]
  },
  {
   "cell_type": "code",
   "execution_count": null,
   "metadata": {},
   "outputs": [],
   "source": [
    "ANGULAR_STEP = 3\n",
    "ANGULAR_RATIO = 2.5\n",
    "N_MEASUREMENTS = 70\n",
    "\n",
    "psg_step = ANGULAR_STEP\n",
    "psa_step = ANGULAR_STEP * ANGULAR_RATIO\n",
    "\n",
    "print(\"End angle PSG: \", ANGULAR_STEP * N_MEASUREMENTS)\n",
    "print(\"End angle PSA: \", ANGULAR_STEP * ANGULAR_RATIO * N_MEASUREMENTS) "
   ]
  },
  {
   "cell_type": "code",
   "execution_count": null,
   "metadata": {},
   "outputs": [],
   "source": [
    "air_test.measurement(psg_step, psa_step, N_MEASUREMENTS)"
   ]
  },
  {
   "cell_type": "markdown",
   "metadata": {},
   "source": [
    "Here's just a plot of the observed power"
   ]
  },
  {
   "cell_type": "code",
   "execution_count": null,
   "metadata": {},
   "outputs": [],
   "source": [
    "plt.style.use(\"bmh\")\n",
    "plt.title(\"Initial calibration run\")\n",
    "plt.plot(air_test.psg_positions_relative, air_test.mean_power_left, label='left', marker='o')\n",
    "plt.plot(air_test.psg_positions_relative, air_test.mean_power_right, label='right', marker='o')\n",
    "plt.legend()\n",
    "plt.ylabel('Power')\n",
    "plt.xlabel('PSG Angle')"
   ]
  },
  {
   "cell_type": "markdown",
   "metadata": {},
   "source": [
    "Now we feed the calibration method our guess `x_model` and the experiment."
   ]
  },
  {
   "cell_type": "code",
   "execution_count": 18,
   "metadata": {},
   "outputs": [],
   "source": [
    "x_model =[\n",
    "    0, # starting_angle_psg_pol\n",
    "    0, # starting_angle_psg_wvp\n",
    "    np.pi/2, # retardance_psg_wvp\n",
    "    0, # starting_angle_psa_pol\n",
    "    0, # starting_angle_psa_wvp\n",
    "    np.pi/2 # retardance_psa_wvp\n",
    "]\n",
    "\n",
    "results = minimize(forward_calibrate, x0=x_model, args=(air_test, 'left'))"
   ]
  },
  {
   "cell_type": "code",
   "execution_count": null,
   "metadata": {},
   "outputs": [],
   "source": [
    "print(np.degrees(results.x))"
   ]
  },
  {
   "cell_type": "markdown",
   "metadata": {},
   "source": [
    "After getting the calibrated parameters we can plot how well the fit matches the data"
   ]
  },
  {
   "cell_type": "code",
   "execution_count": 20,
   "metadata": {},
   "outputs": [],
   "source": [
    "simulated_power = forward_simulate(results.x, air_test, 'left')"
   ]
  },
  {
   "cell_type": "code",
   "execution_count": null,
   "metadata": {},
   "outputs": [],
   "source": [
    "psg_angles = air_test.psg_positions_relative\n",
    "plt.plot(psg_angles, simulated_power / np.max(simulated_power), label='simulated')\n",
    "plt.plot(psg_angles, air_test.mean_power_left / np.max(air_test.mean_power_left), label='measured', linestyle=\"None\", marker='o')\n",
    "plt.legend()\n",
    "plt.xlabel('PSG Angle, deg')\n",
    "plt.ylabel('Normalized Power')"
   ]
  },
  {
   "cell_type": "markdown",
   "metadata": {},
   "source": [
    "That's pretty good! If we look at the calibrated angles we can see that the results aren't too insane. More notably, the retardance values are near 90 degrees, which is what we expect for a quarter waveplate"
   ]
  },
  {
   "cell_type": "markdown",
   "metadata": {},
   "source": [
    "Now that we have calibrated where our polarimeter has been, we can update the internal angles. This is important for the next step, which is to measure the Mueller matrix of air."
   ]
  },
  {
   "cell_type": "markdown",
   "metadata": {},
   "source": [
    "update them with the calibrated values"
   ]
  },
  {
   "cell_type": "code",
   "execution_count": 22,
   "metadata": {},
   "outputs": [],
   "source": [
    "def calibrate_experiment(x, experiment):\n",
    "\n",
    "    experiment.psg_pol_angle = x[0]\n",
    "    experiment.psg_starting_angle = np.degrees(x[1])\n",
    "    experiment.psg_wvp_ret = x[2]\n",
    "    experiment.psa_pol_angle = x[3]\n",
    "    experiment.psa_starting_angle = np.degrees(x[4])\n",
    "    experiment.psa_wvp_ret = x[5]\n",
    "\n",
    "    return experiment"
   ]
  },
  {
   "cell_type": "code",
   "execution_count": 23,
   "metadata": {},
   "outputs": [],
   "source": [
    "air_test_calibrated = calibrate_experiment(results.x, air_test)"
   ]
  },
  {
   "cell_type": "code",
   "execution_count": null,
   "metadata": {},
   "outputs": [],
   "source": [
    "air_test_calibrated.psg_wvp_angle"
   ]
  },
  {
   "cell_type": "markdown",
   "metadata": {},
   "source": [
    "First as a sanity check, we can perform a measurement on the calibrated data."
   ]
  },
  {
   "cell_type": "code",
   "execution_count": 25,
   "metadata": {},
   "outputs": [],
   "source": [
    "from katsu.katsu_math import broadcast_kron\n",
    "\n",
    "def measure_from_experiment(experiment, channel=\"left\"):\n",
    "\n",
    "    # Where it currently is\n",
    "    starting_angle_psg_pol = experiment.psg_pol_angle\n",
    "    starting_angle_psg_wvp = np.radians(experiment.psg_starting_angle)\n",
    "    retardance_psg_wvp = experiment.psg_wvp_ret\n",
    "\n",
    "    starting_angle_psa_pol = experiment.psa_pol_angle\n",
    "    starting_angle_psa_wvp = np.radians(experiment.psa_starting_angle)\n",
    "    retardance_psa_wvp = experiment.psa_wvp_ret\n",
    "\n",
    "    # Construct the position arrays\n",
    "    psg_angles = np.radians(np.array(experiment.psg_positions_relative)) + starting_angle_psg_wvp\n",
    "    psa_angles = np.radians(np.array(experiment.psa_positions_relative)) + starting_angle_psa_wvp\n",
    "\n",
    "    if channel == \"left\":\n",
    "        images = experiment.images\n",
    "        power = []\n",
    "        for img in images:\n",
    "            cut_power = img[cxl-cut:cxl+cut, cyl-cut:cyl+cut]\n",
    "            power.append(cut_power)\n",
    "\n",
    "    elif channel == \"right\":\n",
    "        images = experiment.images\n",
    "        power = []\n",
    "        for img in images:\n",
    "            cut_power = img[cxr-cut:cxr+cut, cyr-cut:cyr+cut]\n",
    "            power.append(cut_power)\n",
    "\n",
    "        starting_angle_psa_pol += np.pi/2\n",
    "\n",
    "    # Honest to goodness dual_channel\n",
    "    else:\n",
    "        images = experiment.images\n",
    "        power = []\n",
    "\n",
    "        for p in range(2):\n",
    "            for img in images:\n",
    "                if p == 0:\n",
    "                    cut_power = img[cxl-cut:cxl+cut, cyl-cut:cyl+cut]\n",
    "                elif p == 1:\n",
    "                    cut_power = img[cxr-cut:cxr+cut, cyr-cut:cyr+cut]\n",
    "\n",
    "                power.append(cut_power)\n",
    "\n",
    "        # update the psg/psa angles\n",
    "        psg_angles = np.concatenate([psg_angles, psg_angles])\n",
    "        psa_angles = np.concatenate([psa_angles, psa_angles])\n",
    "        print(psa_angles.shape)\n",
    "    power = np.asarray(power)\n",
    "\n",
    "    shapes = [*power.shape[-2:], psa_angles.shape[0]]\n",
    "    shapes_half = [*power.shape[-2:], psa_angles.shape[0]//2]\n",
    "    power = np.moveaxis(power,0,-1)\n",
    "\n",
    "    psg_pol = linear_polarizer(starting_angle_psg_pol)\n",
    "    psg_wvp = linear_retarder(psg_angles, retardance_psg_wvp, shape=shapes)\n",
    "\n",
    "    psa_wvp = linear_retarder(psa_angles, retardance_psa_wvp, shape=shapes)\n",
    "\n",
    "    if channel == \"right\" or channel==\"left\":\n",
    "        psa_pol = linear_polarizer(starting_angle_psa_pol)\n",
    "    else:\n",
    "        psa_pol_l = linear_polarizer(starting_angle_psa_pol, shape=shapes_half)\n",
    "        psa_pol_r = linear_polarizer(starting_angle_psa_pol + np.pi/2, shape=shapes_half)\n",
    "        psa_pol = np.concatenate([psa_pol_l, psa_pol_r], axis=-3)\n",
    "        print(psa_pol.shape)\n",
    "\n",
    "    Mg = psg_wvp @ psg_pol\n",
    "    Ma = psa_pol @ psa_wvp\n",
    "\n",
    "    PSA = Ma[..., 0, :]\n",
    "    PSG = Mg[..., :, 0]\n",
    "\n",
    "    # polarimetric data reduction matrix, flatten Mueller matrix dimension\n",
    "    Wmat = broadcast_kron(PSA[..., np.newaxis], PSG[..., np.newaxis])\n",
    "    Wmat = Wmat.reshape([*Wmat.shape[:-2], 16])\n",
    "    Winv = np.linalg.pinv(Wmat)\n",
    "    power_expand = power[..., np.newaxis]\n",
    "\n",
    "    # Do the data reduction\n",
    "    M_meas = Winv @ power_expand\n",
    "    M_meas = M_meas[..., 0]\n",
    "\n",
    "    return M_meas.reshape([*M_meas.shape[:-1], 4, 4])\n",
    "\n",
    "\n",
    "    "
   ]
  },
  {
   "cell_type": "code",
   "execution_count": null,
   "metadata": {},
   "outputs": [],
   "source": [
    "M = measure_from_experiment(air_test_calibrated, channel='dual')"
   ]
  },
  {
   "cell_type": "code",
   "execution_count": 27,
   "metadata": {},
   "outputs": [],
   "source": [
    "def plot_square(x,n=4,vmin=None,vmax=None, title=None):\n",
    "    k = 1\n",
    "    plt.figure(figsize=[11,8.5])\n",
    "    if title is not None:\n",
    "        plt.suptitle(title, fontsize=24)\n",
    "    for i in range(n):\n",
    "        for j in range(n):\n",
    "            plt.subplot(n,n,k)\n",
    "            x_mean = np.mean(x[..., i, j][mask==1])\n",
    "            x_meansub = x[..., i, j] - x_mean\n",
    "            plt.title(f'{x_mean:.2f}'+r'$\\pm$'+f'{np.std(x_meansub[mask==1]):.4f}')\n",
    "            plt.imshow(x[..., i, j], vmin=vmin, vmax=vmax, cmap='RdBu_r')\n",
    "            plt.colorbar()\n",
    "            plt.xticks([],[])\n",
    "            plt.yticks([],[])\n",
    "            k += 1\n",
    "    plt.show()"
   ]
  },
  {
   "cell_type": "code",
   "execution_count": null,
   "metadata": {},
   "outputs": [],
   "source": [
    "plt.style.use(\"default\")\n",
    "plot_square(M * mask[..., None, None] / M[..., 0, 0, None, None], title=\"Dual Channel I-inversion\", vmin=-1, vmax=1)"
   ]
  },
  {
   "cell_type": "markdown",
   "metadata": {},
   "source": [
    "Good to see that the calibration is working. Now we can actually measure the Mueller matrix of air."
   ]
  },
  {
   "cell_type": "code",
   "execution_count": 29,
   "metadata": {},
   "outputs": [],
   "source": [
    "air_measure = Experiment(cam, psg_stg, psa_stg, dark=dark)"
   ]
  },
  {
   "cell_type": "code",
   "execution_count": null,
   "metadata": {},
   "outputs": [],
   "source": [
    "air_measure.measurement(psg_step, psa_step, N_MEASUREMENTS)"
   ]
  },
  {
   "cell_type": "code",
   "execution_count": null,
   "metadata": {},
   "outputs": [],
   "source": [
    "prior_psg_motion = air_test.psg_positions_relative[-1]\n",
    "prior_psa_motion = air_test.psa_positions_relative[-1]\n",
    "print(prior_psg_motion)\n",
    "print(prior_psa_motion)"
   ]
  },
  {
   "cell_type": "code",
   "execution_count": null,
   "metadata": {},
   "outputs": [],
   "source": [
    "plt.style.use(\"bmh\")\n",
    "plt.title(\"Initial calibration run\")\n",
    "plt.plot(air_measure.psg_positions_relative, air_measure.mean_power_left, label='left', marker='o')\n",
    "plt.plot(air_measure.psg_positions_relative, air_measure.mean_power_right, label='right', marker='o')\n",
    "plt.legend()\n",
    "plt.ylabel('Power')\n",
    "plt.xlabel('PSG Angle')"
   ]
  },
  {
   "cell_type": "markdown",
   "metadata": {},
   "source": [
    "Now we need to construct the updated calibration parameters. For now, do so manually"
   ]
  },
  {
   "cell_type": "code",
   "execution_count": 33,
   "metadata": {},
   "outputs": [],
   "source": [
    "air_measure.psg_pol_angle = results.x[0]\n",
    "air_measure.psg_starting_angle = np.degrees(results.x[1]) + prior_psg_motion\n",
    "air_measure.psg_wvp_ret = results.x[2]\n",
    "air_measure.psa_pol_angle = results.x[3]\n",
    "air_measure.psa_starting_angle = np.degrees(results.x[4]) + prior_psa_motion\n",
    "air_measure.psa_wvp_ret = results.x[5]"
   ]
  },
  {
   "cell_type": "code",
   "execution_count": null,
   "metadata": {},
   "outputs": [],
   "source": [
    "M_measure = measure_from_experiment(air_measure, channel=\"dual\")"
   ]
  },
  {
   "cell_type": "code",
   "execution_count": null,
   "metadata": {},
   "outputs": [],
   "source": [
    "plt.style.use(\"default\")\n",
    "plot_square(M_measure / M_measure[..., 0, 0, None, None] * mask[..., None, None], vmin=-1, vmax=1, title=\"I Measurement\")"
   ]
  },
  {
   "cell_type": "code",
   "execution_count": 36,
   "metadata": {},
   "outputs": [],
   "source": [
    "def q_measure_from_experiment(experiment):\n",
    "\n",
    "    # Where it currently is\n",
    "    derotate = experiment.psg_pol_angle\n",
    "    starting_angle_psg_pol = experiment.psg_pol_angle - derotate\n",
    "    starting_angle_psg_wvp = np.radians(experiment.psg_starting_angle) - derotate\n",
    "    retardance_psg_wvp = experiment.psg_wvp_ret\n",
    "\n",
    "    # starting_angle_psa_pol = experiment.psa_pol_angle\n",
    "    starting_angle_psa_wvp = np.radians(experiment.psa_starting_angle) - derotate\n",
    "    retardance_psa_wvp = experiment.psa_wvp_ret\n",
    "\n",
    "    # Construct the position arrays\n",
    "    psg_angles = np.radians(np.array(experiment.psg_positions_relative)) + starting_angle_psg_wvp\n",
    "    psa_angles = np.radians(np.array(experiment.psa_positions_relative)) + starting_angle_psa_wvp\n",
    "\n",
    "    # grab the sub-pupils - TODO: Will need to work on image registration\n",
    "    images = experiment.images\n",
    "    power_left = []\n",
    "    power_right = []\n",
    "    for img in images:\n",
    "        cut_power_left = img[cxl-cut:cxl+cut, cyl-cut:cyl+cut]\n",
    "        cut_power_right = img[cxr-cut:cxr+cut, cyr-cut:cyr+cut]\n",
    "        power_left.append(cut_power_left)\n",
    "        power_right.append(cut_power_right)\n",
    "\n",
    "    power_left = np.asarray(power_left)\n",
    "    power_right = np.asarray(power_right)\n",
    "\n",
    "    shapes = [*power_left.shape[-2:], psa_angles.shape[0]]\n",
    "    power_left = np.moveaxis(power_left, 0, -1)\n",
    "    power_right = np.moveaxis(power_right, 0, -1)\n",
    "    Q = -(power_left - power_right) / (power_left + power_right)\n",
    "\n",
    "    psg_pol = linear_polarizer(starting_angle_psg_pol)\n",
    "    psg_wvp = linear_retarder(psg_angles, retardance_psg_wvp, shape=shapes)\n",
    "\n",
    "    psa_wvp = linear_retarder(psa_angles, retardance_psa_wvp, shape=shapes)\n",
    "    # psa_pol_left = linear_polarizer(starting_angle_psa_pol)\n",
    "    # psa_pol_right = linear_polarizer(starting_angle_psa_pol + np.pi/2)\n",
    "\n",
    "    Mg = psg_wvp @ psg_pol\n",
    "    Ma = psa_wvp\n",
    "    # Ma_left = psa_pol_left @ psa_wvp\n",
    "    # Ma_right = psa_pol_right @ psa_wvp\n",
    "\n",
    "    PSA = Ma[..., 1, :]\n",
    "    # PSA_Left = Ma_left[..., 0, :]\n",
    "    PSG = Mg[..., :, 0]\n",
    "\n",
    "    # polarimetric data reduction matrix, flatten Mueller matrix dimension\n",
    "    Wmat = broadcast_kron(PSA[..., np.newaxis], PSG[..., np.newaxis])\n",
    "    Wmat = Wmat.reshape([*Wmat.shape[:-2], 16])\n",
    "\n",
    "    # Wmat_Left = broadcast_kron(PSA_Left[..., np.newaxis], PSG[..., np.newaxis])\n",
    "    # Wmat_Left = Wmat_Left.reshape([*Wmat_Left.shape[:-2], 16])\n",
    "\n",
    "    # Winv_Left = np.linalg.pinv(Wmat_Left)\n",
    "    Winv = np.linalg.pinv(Wmat)\n",
    "    # power_left_expand = power_left[..., np.newaxis] / (power_left + power_right)[..., np.newaxis]\n",
    "    Q_expand = Q[..., np.newaxis]\n",
    "    # power_expand = np.concatenate([power_left_expand, Q_expand], axis=-2)\n",
    "    # Winv = np.concatenate([Winv_Left, Winv], axis=-1)\n",
    "\n",
    "    # Do the data reduction\n",
    "    M_meas = Winv @ Q_expand\n",
    "    M_meas = M_meas[..., 0]\n",
    "\n",
    "    return M_meas.reshape([*M_meas.shape[:-1], 4, 4])\n"
   ]
  },
  {
   "cell_type": "markdown",
   "metadata": {},
   "source": [
    "# Q data reduction"
   ]
  },
  {
   "cell_type": "code",
   "execution_count": null,
   "metadata": {},
   "outputs": [],
   "source": [
    "M_measure = q_measure_from_experiment(air_measure)"
   ]
  },
  {
   "cell_type": "code",
   "execution_count": null,
   "metadata": {},
   "outputs": [],
   "source": [
    "plt.style.use(\"default\")\n",
    "plot_square(M_measure * mask[..., None, None] / M_measure[...,1,1,None,None], vmin=-1, vmax=1, title=\"Q Measurement\")"
   ]
  },
  {
   "cell_type": "code",
   "execution_count": 39,
   "metadata": {},
   "outputs": [],
   "source": [
    "def q_continuum_from_experiment(experiment, channel=\"dual\"):\n",
    "\n",
    "    # Where it currently is\n",
    "    offset = experiment.psg_pol_angle\n",
    "    starting_angle_psg_pol = experiment.psg_pol_angle - offset\n",
    "    starting_angle_psg_wvp = np.radians(experiment.psg_starting_angle) - offset\n",
    "    retardance_psg_wvp = experiment.psg_wvp_ret\n",
    "\n",
    "    starting_angle_psa_pol = experiment.psa_pol_angle - offset\n",
    "    starting_angle_psa_wvp = np.radians(experiment.psa_starting_angle) - offset\n",
    "    retardance_psa_wvp = experiment.psa_wvp_ret\n",
    "\n",
    "    # Construct the position arrays\n",
    "    psg_angles = np.radians(np.array(experiment.psg_positions_relative)) + starting_angle_psg_wvp\n",
    "    psa_angles = np.radians(np.array(experiment.psa_positions_relative)) + starting_angle_psa_wvp\n",
    "\n",
    "\n",
    "    # Honest to goodness dual_channel\n",
    "    images = experiment.images\n",
    "    power_left = []\n",
    "    power_right = []\n",
    "    Q = []\n",
    "\n",
    "    # extract Q next\n",
    "    for img in images:\n",
    "        cut_power_left = img[cxl-cut:cxl+cut, cyl-cut:cyl+cut]\n",
    "        cut_power_right = img[cxr-cut:cxr+cut, cyr-cut:cyr+cut]\n",
    "\n",
    "        # 3 data points per measurement\n",
    "        power_left.append(cut_power_left)\n",
    "        power_right.append(cut_power_right)\n",
    "        Q.append(-(cut_power_left - cut_power_right) / (cut_power_left + cut_power_right))\n",
    "\n",
    "    ## SET UP INDIVIDUAL I-Inversions\n",
    "    # update the psg/psa angles, we will need a boatload of these for independent experiments\n",
    "    power_left = np.asarray(power_left)\n",
    "    power_right = np.asarray(power_right)\n",
    "\n",
    "    shapes = [*power_left.shape[-2:], psa_angles.shape[0]]\n",
    "    power_left = np.moveaxis(power_left,0,-1)\n",
    "    power_right = np.moveaxis(power_right,0,-1)\n",
    "\n",
    "    psg_pol = linear_polarizer(starting_angle_psg_pol)\n",
    "    psg_wvp = linear_retarder(psg_angles, retardance_psg_wvp, shape=shapes)\n",
    "\n",
    "    psa_wvp = linear_retarder(psa_angles, retardance_psa_wvp, shape=shapes)\n",
    "\n",
    "    psa_pol_l = linear_polarizer(starting_angle_psa_pol, shape=shapes)\n",
    "    psa_pol_r = linear_polarizer(starting_angle_psa_pol + np.pi/2, shape=shapes)\n",
    "\n",
    "    Mg = psg_wvp @ psg_pol\n",
    "    Ma_l = psa_pol_l @ psa_wvp\n",
    "    Ma_r = psa_pol_r @ psa_wvp\n",
    "\n",
    "    PSA_L = Ma_l[..., 0, :]\n",
    "    PSA_R = Ma_r[..., 0, :]\n",
    "    PSG = Mg[..., :, 0]\n",
    "\n",
    "    # polarimetric data reduction matrix, flatten Mueller matrix dimension\n",
    "    Wmat_L = broadcast_kron(PSA_L[..., np.newaxis], PSG[..., np.newaxis])\n",
    "    Wmat_R = broadcast_kron(PSA_R[..., np.newaxis], PSG[..., np.newaxis])\n",
    "    Wmat_L = Wmat_L.reshape([*Wmat_L.shape[:-2], 16])\n",
    "    Wmat_R = Wmat_R.reshape([*Wmat_R.shape[:-2], 16])\n",
    "\n",
    "    # The matrices we want to concatenate pre-inversion\n",
    "    Winv_L = np.linalg.pinv(Wmat_L)\n",
    "    Winv_R = np.linalg.pinv(Wmat_R)\n",
    "\n",
    "    # delete these big matrices to clear up memory\n",
    "    del Wmat_L, Wmat_R, PSA_L, PSA_R, Ma_l, Ma_r\n",
    "\n",
    "    ## SET UP Q INVERSION, in the back I guess?\n",
    "    Q = np.asarray(Q)\n",
    "    shapes = [*power_left.shape[-2:], psa_angles.shape[0]]\n",
    "    Q = np.moveaxis(Q,0,-1)\n",
    "\n",
    "    Ma = psa_wvp\n",
    "\n",
    "    PSA = Ma[..., 1, :]\n",
    "\n",
    "    # polarimetric data reduction matrix, flatten Mueller matrix dimension\n",
    "    Wmat_q = broadcast_kron(PSA[..., np.newaxis], PSG[..., np.newaxis])\n",
    "    Wmat_q = Wmat_q.reshape([*Wmat_q.shape[:-2], 16])\n",
    "    Winv_Q = np.linalg.pinv(Wmat_q)\n",
    "\n",
    "    # pack it all together\n",
    "    Q_expand = Q[..., np.newaxis]\n",
    "    power_left_expand = power_left[..., np.newaxis]\n",
    "    power_right_expand = power_right[..., np.newaxis]\n",
    "\n",
    "    Winv = np.concatenate([Winv_L, Winv_R, Winv_Q], axis=-1)\n",
    "    power_expand = np.concatenate([power_left_expand, power_right_expand, Q_expand], axis=-2)\n",
    "\n",
    "    # Do the data reduction - BIG MATRIX\n",
    "    M_meas = Winv @ power_expand\n",
    "    M_meas = M_meas[..., 0]\n",
    "\n",
    "    return M_meas.reshape([*M_meas.shape[:-1], 4, 4])"
   ]
  },
  {
   "cell_type": "code",
   "execution_count": null,
   "metadata": {},
   "outputs": [],
   "source": [
    "M_measure = q_continuum_from_experiment(air_measure)"
   ]
  },
  {
   "cell_type": "code",
   "execution_count": null,
   "metadata": {},
   "outputs": [],
   "source": [
    "plot_square(M_measure * mask[..., None, None] / M_measure[..., 0, 0, None, None], title=\"Q Continuum\", vmin=-1, vmax=1)"
   ]
  },
  {
   "cell_type": "code",
   "execution_count": 41,
   "metadata": {},
   "outputs": [],
   "source": [
    "# cam.close()\n",
    "# fstg.close()\n",
    "# psg_stg.close()\n",
    "# psa_stg.close()"
   ]
  },
  {
   "cell_type": "code",
   "execution_count": null,
   "metadata": {},
   "outputs": [],
   "source": []
  }
 ],
 "metadata": {
  "kernelspec": {
   "display_name": "pylablib_env",
   "language": "python",
   "name": "python3"
  },
  "language_info": {
   "codemirror_mode": {
    "name": "ipython",
    "version": 3
   },
   "file_extension": ".py",
   "mimetype": "text/x-python",
   "name": "python",
   "nbconvert_exporter": "python",
   "pygments_lexer": "ipython3",
   "version": "3.12.5"
  }
 },
 "nbformat": 4,
 "nbformat_minor": 2
}
