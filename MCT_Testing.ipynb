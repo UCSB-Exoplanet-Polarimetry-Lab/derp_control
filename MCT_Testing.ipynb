{
 "cells": [
  {
   "cell_type": "markdown",
   "id": "2c6e4beb",
   "metadata": {},
   "source": [
    "MCT Testing Notebook"
   ]
  },
  {
   "cell_type": "code",
   "execution_count": null,
   "id": "164a62ad",
   "metadata": {},
   "outputs": [],
   "source": [
    "# connect to the camera\n"
   ]
  }
 ],
 "metadata": {
  "language_info": {
   "name": "python"
  }
 },
 "nbformat": 4,
 "nbformat_minor": 5
}
