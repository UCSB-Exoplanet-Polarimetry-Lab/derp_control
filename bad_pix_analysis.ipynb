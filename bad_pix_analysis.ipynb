{
 "cells": [
  {
   "cell_type": "markdown",
   "id": "e7a6a685",
   "metadata": {},
   "source": [
    "Bad Pixel Data Collection"
   ]
  },
  {
   "cell_type": "markdown",
   "id": "f7c11a32",
   "metadata": {},
   "source": [
    "The plan is to collect bad pixel correction images at various exopsue times to see the performance of the map we havecreated. This should be a fairly automated process, so that we can test maps quickly. "
   ]
  },
  {
   "cell_type": "markdown",
   "id": "585a1316",
   "metadata": {},
   "source": [
    "The procedure is as follows:\n",
    "\n",
    "1. Collect images at a range of exposure times\n",
    "- the range of exposures selected is something for the user to decide...for this run, we are looking at the exposures useful for spatially resolved DRRP measurements, so we want a high time resolution in the range used for these measurements\n",
    "\n",
    "2. "
   ]
  }
 ],
 "metadata": {
  "kernelspec": {
   "display_name": "base",
   "language": "python",
   "name": "python3"
  },
  "language_info": {
   "name": "python",
   "version": "3.12.7"
  }
 },
 "nbformat": 4,
 "nbformat_minor": 5
}
