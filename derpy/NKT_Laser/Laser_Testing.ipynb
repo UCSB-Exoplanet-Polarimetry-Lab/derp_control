{
 "cells": [
  {
   "cell_type": "markdown",
   "metadata": {},
   "source": [
    "Testing SuperK SELECT control via Python. We are using NKT Photonics SuperK Compact laser with SELECT tunable filter. Laser is on COM3."
   ]
  },
  {
   "cell_type": "markdown",
   "metadata": {},
   "source": [
    "On Rayleigh, SDK documents can be found under Users/Public/Public Documents/NKT Photonics\n",
    "\n",
    "SuperK Compact info is on page 59 of the user manual."
   ]
  },
  {
   "cell_type": "markdown",
   "metadata": {},
   "source": [
    "Python interface doesn't work while Control software is connected."
   ]
  },
  {
   "cell_type": "markdown",
   "metadata": {},
   "source": [
    "Notes for Compact registers: \n",
    "\n",
    "- The module type number is 74h. The standard module address is 1 (01h).\n",
    "- Emission on/off – the value 0 turns emission off, and 1 turns it on (if interlock circuit\n",
    "has been reset). The format is an 8-bit unsigned integer \n",
    "- Trig mode set with 31h\n",
    "- Register 0x30 is emission. 1 for on, 0 for off. \n",
    "- Interlock register is 32h. A value greater than 1 will reset the interlock circuit if the key is in the \"On\" position. Sending 0 will disable the interlock. \n",
    "- Internal pulse frequency (repetition rate) is 33h. The value is in Hz. Minimum value is 1, maximum is system dependent\n",
    "- Internal pulse frequency limit readout with 36h. \n",
    "- Power level 3Eh. Setpoint value in %. Values input here are automatically converted to repetition rates which overwrites the value in 33h register. Integer value between 0 and 100\n",
    "- Status bits at 66h\n",
    "- Readout display text with 78h. \n"
   ]
  },
  {
   "cell_type": "markdown",
   "metadata": {},
   "source": [
    "Register Notes for SuperK SELECT: (page 56 of)\n",
    " - module is 67h. Should be at address 16\n",
    " - crystal 1 covers VIS/NIR wavelengths, crystal 2 covers NIR/IR"
   ]
  },
  {
   "cell_type": "code",
   "execution_count": 3,
   "metadata": {},
   "outputs": [],
   "source": [
    "import pylablib as pll"
   ]
  },
  {
   "cell_type": "code",
   "execution_count": 8,
   "metadata": {},
   "outputs": [
    {
     "data": {
      "text/plain": [
       "['COM3', 'COM1']"
      ]
     },
     "execution_count": 8,
     "metadata": {},
     "output_type": "execute_result"
    }
   ],
   "source": [
    "pll.list_backend_resources(\"serial\")"
   ]
  },
  {
   "cell_type": "code",
   "execution_count": 10,
   "metadata": {},
   "outputs": [],
   "source": [
    "from pylablib import devices"
   ]
  },
  {
   "cell_type": "code",
   "execution_count": 1,
   "metadata": {},
   "outputs": [
    {
     "name": "stdout",
     "output_type": "stream",
     "text": [
      "['__builtins__', '__cached__', '__doc__', '__file__', '__loader__', '__name__', '__package__', '__path__', '__spec__']\n"
     ]
    }
   ],
   "source": [
    "import pylablib.devices as devices\n",
    "print(dir(devices))"
   ]
  },
  {
   "cell_type": "code",
   "execution_count": 2,
   "metadata": {},
   "outputs": [
    {
     "ename": "ImportError",
     "evalue": "cannot import name 'NKT' from 'pylablib.devices' (C:\\Users\\EPL User\\AppData\\Roaming\\Python\\Python310\\site-packages\\pylablib\\devices\\__init__.py)",
     "output_type": "error",
     "traceback": [
      "\u001b[1;31m---------------------------------------------------------------------------\u001b[0m",
      "\u001b[1;31mImportError\u001b[0m                               Traceback (most recent call last)",
      "Cell \u001b[1;32mIn[2], line 1\u001b[0m\n\u001b[1;32m----> 1\u001b[0m \u001b[38;5;28;01mfrom\u001b[39;00m \u001b[38;5;21;01mpylablib\u001b[39;00m\u001b[38;5;21;01m.\u001b[39;00m\u001b[38;5;21;01mdevices\u001b[39;00m \u001b[38;5;28;01mimport\u001b[39;00m NKT\n",
      "\u001b[1;31mImportError\u001b[0m: cannot import name 'NKT' from 'pylablib.devices' (C:\\Users\\EPL User\\AppData\\Roaming\\Python\\Python310\\site-packages\\pylablib\\devices\\__init__.py)"
     ]
    }
   ],
   "source": [
    "from pylablib.devices import NKT"
   ]
  },
  {
   "cell_type": "code",
   "execution_count": null,
   "metadata": {},
   "outputs": [
    {
     "name": "stdout",
     "output_type": "stream",
     "text": [
      "Loading x64 DLL from: C:\\Users\\Public\\Documents\\NKT Photonics\\SDK\\NKTPDLL\\x64\\NKTPDLL.dll\n"
     ]
    }
   ],
   "source": [
    "from NKTP_DLL import *\n",
    "from laser_controls import *"
   ]
  },
  {
   "cell_type": "code",
   "execution_count": 124,
   "metadata": {},
   "outputs": [],
   "source": [
    "COMport = 'COM3'\n",
    "COMPACT_devID = 1\n",
    "SELECT_devID = 16\n",
    "\n",
    "mode_mapping = {\n",
    "    0: 'Internal frequency generator',\n",
    "    1: 'External trig',\n",
    "    2: 'Software trigged burst',\n",
    "    3: 'Hardware trigged burst',\n",
    "    4: 'External gate on',\n",
    "    5: 'External gate off',\n",
    "}"
   ]
  },
  {
   "cell_type": "markdown",
   "metadata": {},
   "source": [
    "I think the interlock key has to be turned and reset first. Find a way to check interlock status?"
   ]
  },
  {
   "cell_type": "code",
   "execution_count": 53,
   "metadata": {},
   "outputs": [
    {
     "name": "stdout",
     "output_type": "stream",
     "text": [
      "Setting emission ON. 0:RegResultSuccess\n"
     ]
    }
   ],
   "source": [
    "emission_on()"
   ]
  },
  {
   "cell_type": "code",
   "execution_count": 125,
   "metadata": {},
   "outputs": [],
   "source": [
    "def trig_mode(mode=None):\n",
    "    if mode is None:\n",
    "        result = registerReadU32(COMport, COMPACT_devID, 0x31, -1)\n",
    "        status = mode_mapping[result[1]]\n",
    "        print('Laser mode:', status)\n",
    "    else:\n",
    "        result = registerWriteReadU32(COMport, COMPACT_devID, 0x31, mode, -1)\n",
    "        status = mode_mapping[result[1]]\n",
    "        print('Laser mode:', status)"
   ]
  },
  {
   "cell_type": "code",
   "execution_count": 128,
   "metadata": {},
   "outputs": [
    {
     "name": "stdout",
     "output_type": "stream",
     "text": [
      "Laser mode: Internal frequency generator\n"
     ]
    }
   ],
   "source": [
    "trig_mode(0)"
   ]
  },
  {
   "cell_type": "code",
   "execution_count": 63,
   "metadata": {},
   "outputs": [
    {
     "name": "stdout",
     "output_type": "stream",
     "text": [
      "Setting emission OFF. 0:RegResultSuccess\n"
     ]
    }
   ],
   "source": [
    "emission_off()"
   ]
  },
  {
   "cell_type": "code",
   "execution_count": null,
   "metadata": {},
   "outputs": [
    {
     "name": "stdout",
     "output_type": "stream",
     "text": [
      "(0, 4095)\n",
      "Unknown result\n"
     ]
    }
   ],
   "source": [
    "# Monitor 1 readout, not working?\n",
    "result = registerReadU16('COM3', 16, 0x10, -1)\n",
    "print(result)\n",
    "print(RegisterResultTypes(result))"
   ]
  },
  {
   "cell_type": "code",
   "execution_count": null,
   "metadata": {},
   "outputs": [
    {
     "name": "stdout",
     "output_type": "stream",
     "text": [
      "(0, 350)\n",
      "Unknown result\n"
     ]
    }
   ],
   "source": [
    "# Monitor 2 readout, not working?\n",
    "result = registerReadU16('COM3', 17, 0x11, -1)\n",
    "print(result)\n",
    "print(RegisterResultTypes(result))"
   ]
  },
  {
   "cell_type": "code",
   "execution_count": 70,
   "metadata": {},
   "outputs": [
    {
     "name": "stdout",
     "output_type": "stream",
     "text": [
      "(0, 500000)\n",
      "Unknown result\n"
     ]
    }
   ],
   "source": [
    "# crystal 1 minimum wavelength, value in pm\n",
    "result = registerReadU32('COM3', 16, 0x90, -1)\n",
    "print(result)\n",
    "print(RegisterResultTypes(result))"
   ]
  },
  {
   "cell_type": "code",
   "execution_count": null,
   "metadata": {},
   "outputs": [],
   "source": [
    "def interlock_status():\n",
    "    if value==0:\n",
    "        print('Interlock off')\n",
    "    if value"
   ]
  },
  {
   "cell_type": "code",
   "execution_count": null,
   "metadata": {},
   "outputs": [],
   "source": [
    "status_mapping = {\n",
    "    0: \"Device is off.\",\n",
    "    1: \"Device is on.\",\n",
    "    2: \"Device is broken.\"\n",
    "}\n",
    "\n",
    "# Function to check the status based on the mapping\n",
    "def check_device_status(value):\n",
    "    # Use the get method to provide a default message for unknown values\n",
    "    message = status_mapping.get(value, \"Unknown status.\")\n",
    "    print(message)\n",
    "\n",
    "# Example usage\n",
    "status_value = int(input(\"Enter the device status (0: off, 1: on, 2: broken): \"))\n",
    "check_device_status(status_value)"
   ]
  },
  {
   "cell_type": "code",
   "execution_count": null,
   "metadata": {},
   "outputs": [],
   "source": [
    "interlock_mapping = {\n",
    "    0: \"Interlock off (interlock circuit open).\",\n",
    "    1: \"Waiting for interlock reset.\",\n",
    "    3: \"Interlock is OK.\"\n",
    "}\n",
    "\n",
    "def interlock_status(value):\n",
    "    message = interlock_mapping.get(value, \"Unknown interlock status.\")\n",
    "    print(message)"
   ]
  },
  {
   "cell_type": "markdown",
   "metadata": {},
   "source": [
    " 0 Interlock off (interlock circuit open)\n",
    "0 1 Waiting for interlock reset\n",
    "0 2 Interlock is OK\n",
    "1 0 Front panel interlock / key switch off\n",
    "2 0 Door switch open\n",
    "3 0 External module interlock\n",
    "4 0 Interlock power failure\n",
    "255 - Interlock circuit failure"
   ]
  }
 ],
 "metadata": {
  "kernelspec": {
   "display_name": "First_Light_SDK",
   "language": "python",
   "name": "python3"
  },
  "language_info": {
   "codemirror_mode": {
    "name": "ipython",
    "version": 3
   },
   "file_extension": ".py",
   "mimetype": "text/x-python",
   "name": "python",
   "nbconvert_exporter": "python",
   "pygments_lexer": "ipython3",
   "version": "3.10.11"
  }
 },
 "nbformat": 4,
 "nbformat_minor": 2
}
