{
 "cells": [
  {
   "cell_type": "markdown",
   "metadata": {},
   "source": [
    "Testing SuperK SELECT control via Python. We are using NKT Photonics SuperK Compact laser with SELECT tunable filter. Laser is on COM3."
   ]
  },
  {
   "cell_type": "markdown",
   "metadata": {},
   "source": [
    "On Rayleigh, SDK documents can be found under Users/Public/Public Documents/NKT Photonics\n",
    "\n",
    "SuperK Compact info is on page 59 of the user manual."
   ]
  },
  {
   "cell_type": "markdown",
   "metadata": {},
   "source": [
    "Python interface doesn't work while Control software is connected."
   ]
  },
  {
   "cell_type": "markdown",
   "metadata": {},
   "source": [
    "Notes for Compact registers: \n",
    "\n",
    "- The module type number is 74h. The standard module address is 1 (01h).\n",
    "- Emission on/off – the value 0 turns emission off, and 1 turns it on (if interlock circuit\n",
    "has been reset). The format is an 8-bit unsigned integer \n",
    "- Trig mode set with 31h\n",
    "- Register 0x30 is emission. Register 0x99 might be power? Value 100 for 100%\n",
    "- Interlock register is 32h. A value greater than 1 will reset the interlock circuit if the key is in the \"On\" position. Sending 0 will disable the interlock. \n",
    "- Internal pulse frequency (repetition rate) is 33h. The value is in Hz. Minimum value is 1, maximum is system dependent\n",
    "- Internal pulse frequency limit readout with 36h. \n",
    "- Power level 3Eh. Setpoint value in %. Values input here are automatically converted to repetition rates which overwrites the value in 33h register. Integer value between 0 and 100\n",
    "- Status bits at 66h\n",
    "- Readout display text with 78h. \n",
    "\n",
    "\n",
    "- Should also look into specific registers for SuperK SELECT\n"
   ]
  },
  {
   "cell_type": "code",
   "execution_count": 7,
   "metadata": {},
   "outputs": [
    {
     "name": "stdout",
     "output_type": "stream",
     "text": [
      "Connected to COM3\n",
      "Laser turned on.\n",
      "Connection closed.\n"
     ]
    }
   ],
   "source": [
    "import serial\n",
    "import time\n",
    "\n",
    "# Configure the serial connection\n",
    "com_port = 'COM3'  # Change if necessary\n",
    "baud_rate = 9600    # Set the appropriate baud rate for your device\n",
    "\n",
    "# Initialize the serial connection\n",
    "try:\n",
    "    laser = serial.Serial(com_port, baud_rate, timeout=1)\n",
    "    print(f\"Connected to {com_port}\")\n",
    "\n",
    "    # Give the connection a moment to settle\n",
    "    time.sleep(2)\n",
    "\n",
    "    # Command to turn on the laser (this command may vary; check the manual)\n",
    "    turn_on_command = 'LASE:ON\\r\\n'  # Example command; replace with the correct one\n",
    "\n",
    "    # Send the command\n",
    "    laser.write(turn_on_command.encode('utf-8'))\n",
    "    print(\"Laser turned on.\")\n",
    "\n",
    "except serial.SerialException as e:\n",
    "    print(f\"Error: {e}\")\n",
    "\n",
    "finally:\n",
    "    # Close the connection when done\n",
    "    if 'laser' in locals() and laser.is_open:\n",
    "        laser.close()\n",
    "        print(\"Connection closed.\")"
   ]
  },
  {
   "cell_type": "code",
   "execution_count": 3,
   "metadata": {},
   "outputs": [],
   "source": [
    "import pylablib as pll"
   ]
  },
  {
   "cell_type": "code",
   "execution_count": 8,
   "metadata": {},
   "outputs": [
    {
     "data": {
      "text/plain": [
       "['COM3', 'COM1']"
      ]
     },
     "execution_count": 8,
     "metadata": {},
     "output_type": "execute_result"
    }
   ],
   "source": [
    "pll.list_backend_resources(\"serial\")"
   ]
  },
  {
   "cell_type": "code",
   "execution_count": 10,
   "metadata": {},
   "outputs": [],
   "source": [
    "from pylablib import devices"
   ]
  },
  {
   "cell_type": "code",
   "execution_count": 1,
   "metadata": {},
   "outputs": [
    {
     "name": "stdout",
     "output_type": "stream",
     "text": [
      "['__builtins__', '__cached__', '__doc__', '__file__', '__loader__', '__name__', '__package__', '__path__', '__spec__']\n"
     ]
    }
   ],
   "source": [
    "import pylablib.devices as devices\n",
    "print(dir(devices))"
   ]
  },
  {
   "cell_type": "code",
   "execution_count": 2,
   "metadata": {},
   "outputs": [
    {
     "ename": "ImportError",
     "evalue": "cannot import name 'NKT' from 'pylablib.devices' (C:\\Users\\EPL User\\AppData\\Roaming\\Python\\Python310\\site-packages\\pylablib\\devices\\__init__.py)",
     "output_type": "error",
     "traceback": [
      "\u001b[1;31m---------------------------------------------------------------------------\u001b[0m",
      "\u001b[1;31mImportError\u001b[0m                               Traceback (most recent call last)",
      "Cell \u001b[1;32mIn[2], line 1\u001b[0m\n\u001b[1;32m----> 1\u001b[0m \u001b[38;5;28;01mfrom\u001b[39;00m \u001b[38;5;21;01mpylablib\u001b[39;00m\u001b[38;5;21;01m.\u001b[39;00m\u001b[38;5;21;01mdevices\u001b[39;00m \u001b[38;5;28;01mimport\u001b[39;00m NKT\n",
      "\u001b[1;31mImportError\u001b[0m: cannot import name 'NKT' from 'pylablib.devices' (C:\\Users\\EPL User\\AppData\\Roaming\\Python\\Python310\\site-packages\\pylablib\\devices\\__init__.py)"
     ]
    }
   ],
   "source": [
    "from pylablib.devices import NKT"
   ]
  },
  {
   "cell_type": "code",
   "execution_count": 4,
   "metadata": {},
   "outputs": [
    {
     "name": "stdout",
     "output_type": "stream",
     "text": [
      "Loading x64 DLL from: C:\\Users\\Public\\Documents\\NKT Photonics\\SDK\\NKTPDLL\\x64\\NKTPDLL.dll\n"
     ]
    }
   ],
   "source": [
    "from NKTP_DLL import *"
   ]
  },
  {
   "cell_type": "code",
   "execution_count": 11,
   "metadata": {},
   "outputs": [
    {
     "name": "stdout",
     "output_type": "stream",
     "text": [
      "Setting emission ON - Extreme: 13:RegResultPortNotFound\n"
     ]
    }
   ],
   "source": [
    "# For Extreme\n",
    "result = registerWriteU8('COM27', 15, 0x30, 3, -1)\n",
    "print('Setting emission ON - Extreme:', RegisterResultTypes(result))"
   ]
  },
  {
   "cell_type": "markdown",
   "metadata": {},
   "source": [
    "I think the interlock key has to be turned and reset first. Find a way to check interlock status?"
   ]
  },
  {
   "cell_type": "code",
   "execution_count": 71,
   "metadata": {},
   "outputs": [
    {
     "name": "stdout",
     "output_type": "stream",
     "text": [
      "Setting emission ON - Compact: 0:RegResultSuccess\n"
     ]
    }
   ],
   "source": [
    "# try my version with Compact\n",
    "# format goes (port, module address 15=0x0F, emission control register=0x30, data value, ???)\n",
    "result = registerWriteU8('COM3', 1, 0x30, 1, -1)\n",
    "print('Setting emission ON - Compact:', RegisterResultTypes(result))"
   ]
  },
  {
   "cell_type": "code",
   "execution_count": 5,
   "metadata": {},
   "outputs": [],
   "source": [
    "def power_on():\n",
    "    result = registerWriteU8('COM3', 1, 0x30, 1, -1)\n",
    "    print('Setting emission ON.', RegisterResultTypes(result))"
   ]
  },
  {
   "cell_type": "code",
   "execution_count": 6,
   "metadata": {},
   "outputs": [],
   "source": [
    "def power_off():\n",
    "    result = registerWriteU8('COM3', 1, 0x30, 0, -1)\n",
    "    print('Setting emission OFF.', RegisterResultTypes(result))"
   ]
  },
  {
   "cell_type": "code",
   "execution_count": 9,
   "metadata": {},
   "outputs": [
    {
     "name": "stdout",
     "output_type": "stream",
     "text": [
      "Setting emission OFF. 0:RegResultSuccess\n"
     ]
    }
   ],
   "source": [
    "power_off()"
   ]
  },
  {
   "cell_type": "code",
   "execution_count": 53,
   "metadata": {},
   "outputs": [
    {
     "name": "stdout",
     "output_type": "stream",
     "text": [
      "Setting emission OFF - Compact: 0:RegResultSuccess\n"
     ]
    }
   ],
   "source": [
    "# Turn laser off\n",
    "result = registerWriteU8('COM3', 1, 0x30, 0, -1)\n",
    "print('Setting emission OFF - Compact:', RegisterResultTypes(result))"
   ]
  },
  {
   "cell_type": "code",
   "execution_count": 70,
   "metadata": {},
   "outputs": [
    {
     "name": "stdout",
     "output_type": "stream",
     "text": [
      "Setting power - Compact: 4:RegResultNacked\n"
     ]
    }
   ],
   "source": [
    "# Set laser power\n",
    "result = registerWriteU8('COM3', 1, 0x99, 50, -1)\n",
    "print('Setting power - Compact:', RegisterResultTypes(result))"
   ]
  },
  {
   "cell_type": "code",
   "execution_count": 48,
   "metadata": {},
   "outputs": [
    {
     "name": "stdout",
     "output_type": "stream",
     "text": [
      "(0, 25)\n",
      "Unknown result\n"
     ]
    }
   ],
   "source": [
    "# Check power level\n",
    "result = registerReadU8('COM3', 1, 0x3E, 0) # last value is the channel? 1 through 8. Second value in the output is power level for that channel maybe and first is overall?\n",
    "# 0 value gives output (0, 20). The power level is in fact 20%! checked\n",
    "print(result)\n",
    "print(RegisterResultTypes(result))"
   ]
  },
  {
   "cell_type": "code",
   "execution_count": null,
   "metadata": {},
   "outputs": [],
   "source": [
    "# Check power level, works\n",
    "def get_overall_power():\n",
    "    result = registerReadU8('COM3', 1, 0x3E, 0) # devID=1 for Compact\n",
    "    power = result[1]\n",
    "    print(f'Overall power level: {power}%')"
   ]
  },
  {
   "cell_type": "code",
   "execution_count": null,
   "metadata": {},
   "outputs": [],
   "source": [
    "# Set power level, works\n",
    "def set_overall_power(power):\n",
    "    result = registerWriteU8('COM3', 1, 0x3E, power, -1)\n",
    "    print(f'Setting overall power level to {power}%: {RegisterResultTypes(result)}')"
   ]
  },
  {
   "cell_type": "code",
   "execution_count": 75,
   "metadata": {},
   "outputs": [
    {
     "name": "stdout",
     "output_type": "stream",
     "text": [
      "Setting overall power level to 50%: 0:RegResultSuccess\n"
     ]
    }
   ],
   "source": [
    "set_overall_power(50)"
   ]
  },
  {
   "cell_type": "code",
   "execution_count": 76,
   "metadata": {},
   "outputs": [
    {
     "name": "stdout",
     "output_type": "stream",
     "text": [
      "Overall power level: 50%\n"
     ]
    }
   ],
   "source": [
    "get_overall_power()"
   ]
  },
  {
   "cell_type": "code",
   "execution_count": 66,
   "metadata": {},
   "outputs": [
    {
     "name": "stdout",
     "output_type": "stream",
     "text": [
      "(0, 3.08467830951822e-41)\n",
      "Unknown result\n"
     ]
    }
   ],
   "source": [
    "# Readout of the maximum permissible internal frequency in Hz\n",
    "result = registerReadF32('COM3', 1, 0x36, -1)\n",
    "print(result)\n",
    "print(RegisterResultTypes(result))"
   ]
  },
  {
   "cell_type": "code",
   "execution_count": 65,
   "metadata": {},
   "outputs": [
    {
     "name": "stdout",
     "output_type": "stream",
     "text": [
      "(8, 2.802596928649634e-45)\n",
      "Unknown result\n"
     ]
    }
   ],
   "source": [
    "# Readout interlock\n",
    "result = registerReadF32('COM3', 1, 0x32, -1)\n",
    "print(result)\n",
    "print(RegisterResultTypes(result))"
   ]
  },
  {
   "cell_type": "code",
   "execution_count": null,
   "metadata": {},
   "outputs": [],
   "source": [
    "def interlock_status():\n",
    "    if value==0:\n",
    "        print('Interlock off')\n",
    "    if value"
   ]
  },
  {
   "cell_type": "code",
   "execution_count": null,
   "metadata": {},
   "outputs": [],
   "source": [
    "status_mapping = {\n",
    "    0: \"Device is off.\",\n",
    "    1: \"Device is on.\",\n",
    "    2: \"Device is broken.\"\n",
    "}\n",
    "\n",
    "# Function to check the status based on the mapping\n",
    "def check_device_status(value):\n",
    "    # Use the get method to provide a default message for unknown values\n",
    "    message = status_mapping.get(value, \"Unknown status.\")\n",
    "    print(message)\n",
    "\n",
    "# Example usage\n",
    "status_value = int(input(\"Enter the device status (0: off, 1: on, 2: broken): \"))\n",
    "check_device_status(status_value)"
   ]
  },
  {
   "cell_type": "code",
   "execution_count": null,
   "metadata": {},
   "outputs": [],
   "source": [
    "interlock_mapping = {\n",
    "    0: \"Interlock off (interlock circuit open).\",\n",
    "    1: \"Waiting for interlock reset.\",\n",
    "    3: \"Interlock is OK.\"\n",
    "}\n",
    "\n",
    "def interlock_status(value):\n",
    "    message = interlock_mapping.get(value, \"Unknown interlock status.\")\n",
    "    print(message)"
   ]
  },
  {
   "cell_type": "markdown",
   "metadata": {},
   "source": [
    " 0 Interlock off (interlock circuit open)\n",
    "0 1 Waiting for interlock reset\n",
    "0 2 Interlock is OK\n",
    "1 0 Front panel interlock / key switch off\n",
    "2 0 Door switch open\n",
    "3 0 External module interlock\n",
    "4 0 Interlock power failure\n",
    "255 - Interlock circuit failure"
   ]
  }
 ],
 "metadata": {
  "kernelspec": {
   "display_name": "First_Light_SDK",
   "language": "python",
   "name": "python3"
  },
  "language_info": {
   "codemirror_mode": {
    "name": "ipython",
    "version": 3
   },
   "file_extension": ".py",
   "mimetype": "text/x-python",
   "name": "python",
   "nbconvert_exporter": "python",
   "pygments_lexer": "ipython3",
   "version": "3.10.11"
  }
 },
 "nbformat": 4,
 "nbformat_minor": 2
}
