{
 "cells": [
  {
   "cell_type": "markdown",
   "metadata": {},
   "source": [
    "Here is a demo for calibartion the Dual-Rotating Retarder Polarimeter that requires a measurement of air and a best fit using the Mueller matrix model. One advantage of this method is that none of the optical components (aside from the sample) need to be removed for calibration. Ideally, this procedure will correct for imperfections in the optical components including waveplate retardance, linear polarizer alignment, and waveplate fast axis angle. "
   ]
  },
  {
   "cell_type": "code",
   "execution_count": 1,
   "metadata": {},
   "outputs": [],
   "source": [
    "import numpy as np"
   ]
  },
  {
   "cell_type": "markdown",
   "metadata": {},
   "source": [
    "The basic idea behind this method is to create a realistic Mueller matrix model for the DRRP without having to individually measure the Mueller matrix of each component. We could assume ideal matrices for each component, but in reality there will be small imperfections and misalignments that can increase the uncertainty in measurements if not corrected for. \n",
    "\n",
    "Using the DRRP requires three key components, a matrix model for the system, a Mueller matrix for the sample, and measurements taken of the sample. This can be written as:\n",
    "$$M_{system}I_{measured} = M_{sample}$$\n",
    "For calibration, we want to find $M_{system}$ from known $I_{measured}$ and $M_{sample}$. By taking measurements of air, we can replace $M_{sample}$ with the identity matrix: "
   ]
  },
  {
   "cell_type": "code",
   "execution_count": 3,
   "metadata": {},
   "outputs": [
    {
     "name": "stdout",
     "output_type": "stream",
     "text": [
      "[[1. 0. 0. 0.]\n",
      " [0. 1. 0. 0.]\n",
      " [0. 0. 1. 0.]\n",
      " [0. 0. 0. 1.]]\n"
     ]
    }
   ],
   "source": [
    "print(np.identity(4))"
   ]
  },
  {
   "cell_type": "code",
   "execution_count": null,
   "metadata": {},
   "outputs": [],
   "source": []
  }
 ],
 "metadata": {
  "kernelspec": {
   "display_name": "base",
   "language": "python",
   "name": "python3"
  },
  "language_info": {
   "codemirror_mode": {
    "name": "ipython",
    "version": 3
   },
   "file_extension": ".py",
   "mimetype": "text/x-python",
   "name": "python",
   "nbconvert_exporter": "python",
   "pygments_lexer": "ipython3",
   "version": "3.9.12"
  }
 },
 "nbformat": 4,
 "nbformat_minor": 2
}
